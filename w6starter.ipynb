{
  "nbformat": 4,
  "nbformat_minor": 0,
  "metadata": {
    "colab": {
      "provenance": [],
      "authorship_tag": "ABX9TyOiY8vC1jBnxBT6gH7wkr1k",
      "include_colab_link": true
    },
    "kernelspec": {
      "name": "python3",
      "display_name": "Python 3"
    },
    "language_info": {
      "name": "python"
    }
  },
  "cells": [
    {
      "cell_type": "markdown",
      "metadata": {
        "id": "view-in-github",
        "colab_type": "text"
      },
      "source": [
        "<a href=\"https://colab.research.google.com/github/jq2412/week6/blob/main/w6starter.ipynb\" target=\"_parent\"><img src=\"https://colab.research.google.com/assets/colab-badge.svg\" alt=\"Open In Colab\"/></a>"
      ]
    },
    {
      "cell_type": "code",
      "execution_count": null,
      "metadata": {
        "id": "NlwfIk8xk7tE"
      },
      "outputs": [],
      "source": []
    },
    {
      "cell_type": "code",
      "execution_count": 5,
      "metadata": {
        "id": "Jx7tQYA0d1Ly",
        "outputId": "a07a04db-e0ca-44b2-fd37-a211c8daa983",
        "colab": {
          "base_uri": "https://localhost:8080/"
        }
      },
      "outputs": [
        {
          "output_type": "stream",
          "name": "stderr",
          "text": [
            "\r[*********************100%***********************]  1 of 1 completed"
          ]
        },
        {
          "output_type": "stream",
          "name": "stdout",
          "text": [
            "GS\n"
          ]
        },
        {
          "output_type": "stream",
          "name": "stderr",
          "text": [
            "\n",
            "[*********************100%***********************]  1 of 1 completed"
          ]
        },
        {
          "output_type": "stream",
          "name": "stdout",
          "text": [
            "<class 'pandas.core.frame.DataFrame'>\n",
            "[[-0.01776172]\n",
            " [-0.01717885]\n",
            " [ 0.09107645]\n",
            " ...\n",
            " [ 0.0205286 ]\n",
            " [-0.04282804]\n",
            " [-0.0140927 ]]\n"
          ]
        },
        {
          "output_type": "stream",
          "name": "stderr",
          "text": [
            "\n"
          ]
        }
      ],
      "source": [
        "import yfinance as yf\n",
        "import pandas as pd\n",
        "\n",
        "\n",
        "# Part 1: create function to call yahoo finance to get prices and return the returns\n",
        "# for a given time period (default is start=\"2020-01-01\", end=\"2025-02-01\") - 2 points\n",
        "def YahooData2returns(symbol,start=\"2020-01-01\", end=\"2025-02-01\"):\n",
        "    return\n",
        "    # YahooData = data from Yahoo Finance\n",
        "    # Steps:\n",
        "    # Extract 'Adj Close' column\n",
        "    # Extract values from 'Adj Close' column to transform to a simple array\n",
        "    # Calculate and return the lagged returns\n",
        "\n",
        "\n",
        "def get_stock_data(symbol,start=\"2020-01-01\", end=\"2025-02-01\"):\n",
        "    print(symbol)\n",
        "    data = yf.download(symbol, start, end)\n",
        "    data = yf.download(symbol)\n",
        "    prices = data['Close']\n",
        "    return prices\n",
        "\n",
        "# Example usage\n",
        "prices = get_stock_data('GS')\n",
        "print(type(prices))\n",
        "pricevec = prices.values\n",
        "\n",
        "# Compute the returns\n",
        "n = len(pricevec)\n",
        "ratiovec = pricevec[1:n] / pricevec[:n-1]\n",
        "\n",
        "def get_returns(pricevec):\n",
        "    n = len(pricevec)\n",
        "    ratiovec = pricevec[1:n] / pricevec[:n-1]\n",
        "    returns = ratiovec - 1  # assuming the return calculation is (price_t / price_t-1) - 1\n",
        "    return returns\n",
        "\n",
        "# Example of using get_returns\n",
        "returns = get_returns(pricevec)\n",
        "print(returns)"
      ]
    },
    {
      "cell_type": "code",
      "source": [
        "import numpy as np\n",
        "import matplotlib.pyplot as plt\n",
        "from scipy.stats import norm\n",
        "\n",
        "# Part 2 - given a set of returns calculate the VaR and allow for\n",
        "# the notional amount to be an input variable \"principal with\" a default value of 1\n",
        "# 2 points\n",
        "\n",
        "def VaR(r, confidence, principal = 1):\n",
        "    # This function returns the left tail value and displays a histogram\n",
        "    # r = a vector of stock returns\n",
        "    # principal = investment initial value\n",
        "    #\n",
        "    # out = principal * positively stated value of r at the 1-alpha percentile\n",
        "    return out\n",
        "\n",
        "# Partial demonstration\n",
        "def percent_var(r, confidence):\n",
        "    # This function returns the left tail value and displays a histogram\n",
        "    # r = a vector of stock percent returns\n",
        "    # out = positively stated value of r at the 1-alpha percentile\n",
        "\n",
        "    plt.hist(r, bins=50, alpha=0.75)\n",
        "    plt.show()\n",
        "\n",
        "    out = np.percentile(r, (1 - confidence) * 100)  # Calculate the percentile\n",
        "    return abs(out)  # Return the absolute value of the calculated percentile\n",
        "\n",
        "# Example tools: percentile\n",
        "returns = np.random.normal(0, 1, 10000)\n",
        "print(np.percentile(returns, 97.72))\n",
        "\n",
        "# Unit test\n",
        "r = np.random.normal(0.05, 0.03, 1000000)\n",
        "probability2SD = norm.cdf(2)  # Probability under normal curve within 2 standard deviations\n",
        "\n",
        "my_confidence = probability2SD\n",
        "my_percent_var = percent_var(r, my_confidence )\n",
        "print(np.round(my_percent_var, 2) == 0.01)"
      ],
      "metadata": {
        "colab": {
          "base_uri": "https://localhost:8080/",
          "height": 466
        },
        "id": "qYKbDipKmVS0",
        "outputId": "01db7879-3eed-4ec5-e600-402f95b353c2"
      },
      "execution_count": 6,
      "outputs": [
        {
          "output_type": "stream",
          "name": "stdout",
          "text": [
            "2.0098098071108206\n"
          ]
        },
        {
          "output_type": "display_data",
          "data": {
            "text/plain": [
              "<Figure size 640x480 with 1 Axes>"
            ],
            "image/png": "[encoded data removed]"
          },
          "metadata": {}
        },
        {
          "output_type": "stream",
          "name": "stdout",
          "text": [
            "True\n"
          ]
        }
      ]
    },
    {
      "cell_type": "code",
      "source": [
        "import numpy as np\n",
        "\n",
        "def ES(losses, confidence=None, VaR=None, use_PnL=False):\n",
        "    \"\"\"\n",
        "    Calculate the Expected Shortfall (ES) of losses.\n",
        "\n",
        "    losses: array of positively stated loss values\n",
        "    confidence: risk level (e.g., 0.99 for 99%)\n",
        "    VaR: dollar value specifying the VaR threshold\n",
        "\n",
        "    return Expected Shortfall as the average of losses exceeding VaR\n",
        "    \"\"\"\n",
        "    if VaR is None:\n",
        "        # If VaR is not provided, determine VaR based on the confidence percentile\n",
        "        VaR = np.percentile(losses, 100 * confidence)\n",
        "\n",
        "    # Calculate ES as the average of losses exceeding the VaR threshold\n",
        "    es_value = np.mean(losses[losses > VaR])\n",
        "    return es_value\n",
        "\n",
        "# Unit test\n",
        "u = np.random.uniform(0, 100, 100000)\n",
        "\n",
        "# Test the ES function with an confidence of 0.8\n",
        "es_confidence = ES(losses=u, confidence=0.8)\n",
        "print('ES with confidence:', np.round(es_confidence, 0) == 90)\n",
        "\n",
        "# Test the ES function with a VaR of 80\n",
        "es_var = ES(losses=u, VaR=80)\n",
        "print('ES with VaR:', np.round(es_var, 0) == 90)\n"
      ],
      "metadata": {
        "colab": {
          "base_uri": "https://localhost:8080/"
        },
        "id": "ljMR6S2pmbLc",
        "outputId": "cd5adba9-3759-4ad9-b847-edef69a29579"
      },
      "execution_count": 7,
      "outputs": [
        {
          "output_type": "stream",
          "name": "stdout",
          "text": [
            "ES with confidence: True\n",
            "ES with VaR: True\n"
          ]
        }
      ]
    },
    {
      "cell_type": "code",
      "source": [
        "# Problem 4 - 2 points\n",
        "# Given a stock symbol get the returns and calculate the .99 %-ile VaR on a $1MM investment\n",
        "def VaRStock(symbol, confidence=.95, principal = 1,start=\"2020-01-01\", end=\"2025-02-01\"):\n",
        "\n",
        "  # Get prices using functions defined above above\n",
        "  returns = YahooData2returns(symbol,start,end)\n",
        "\n",
        "\n",
        "  # Feed returns into VaR function\n",
        "  var=VaR(returns, confidence, principal = 1)\n",
        "\n",
        "  return(var)"
      ],
      "metadata": {
        "id": "ksmiAg49mqyb"
      },
      "execution_count": 10,
      "outputs": []
    },
    {
      "cell_type": "code",
      "source": [
        "# Problem 5 - 2 points\n",
        "# Given a stock symbol get the returns and calculate the .975 %-ile ES (expected shortfall) on a $1MM investment\n",
        "\n",
        "# Get returns for stock using function above\n",
        "\n",
        "# Calculate .975 %-ile and seleect returns"
      ],
      "metadata": {
        "id": "SiMv6e8Um8ce"
      },
      "execution_count": null,
      "outputs": []
    }
  ]
}