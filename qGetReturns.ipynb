{
  "nbformat": 4,
  "nbformat_minor": 0,
  "metadata": {
    "colab": {
      "provenance": [],
      "authorship_tag": "ABX9TyPj5PKH84JauWTcHYRQuiBB",
      "include_colab_link": true
    },
    "kernelspec": {
      "name": "python3",
      "display_name": "Python 3"
    },
    "language_info": {
      "name": "python"
    }
  },
  "cells": [
    {
      "cell_type": "markdown",
      "metadata": {
        "id": "view-in-github",
        "colab_type": "text"
      },
      "source": [
        "<a href=\"https://colab.research.google.com/github/jq2412/week6/blob/main/qGetReturns.ipynb\" target=\"_parent\"><img src=\"https://colab.research.google.com/assets/colab-badge.svg\" alt=\"Open In Colab\"/></a>"
      ]
    },
    {
      "cell_type": "code",
      "execution_count": null,
      "metadata": {
        "id": "NlwfIk8xk7tE"
      },
      "outputs": [],
      "source": []
    },
    {
      "cell_type": "code",
      "execution_count": 4,
      "metadata": {
        "id": "Jx7tQYA0d1Ly",
        "outputId": "551ddca2-b408-4066-90bc-7e0ff36b9b71",
        "colab": {
          "base_uri": "https://localhost:8080/"
        }
      },
      "outputs": [
        {
          "output_type": "stream",
          "name": "stdout",
          "text": [
            "Price           Close       High        Low       Open    Volume\n",
            "Ticker             GS         GS         GS         GS        GS\n",
            "Date                                                            \n",
            "1999-05-04  49.445179  54.275525  49.181706  53.397280  22320900\n",
            "1999-05-05  48.566948  49.093895  46.546984  49.093895   7565700\n",
            "1999-05-06  47.732628  48.742610  47.117856  47.776540   2905700\n",
            "1999-05-07  52.079926  52.606873  46.898280  47.732613   4862300\n",
            "1999-05-10  49.664749  51.640800  49.357363  51.552976   2589400\n"
          ]
        }
      ],
      "source": [
        "import yfinance as yf\n",
        "import pandas as pd\n",
        "\n",
        "def YahooData2returns(YahooData):\n",
        "    adj_close_prices = YahooData['Adj Close'].dropna().values\n",
        "\n",
        "    n = len(adj_close_prices)\n",
        "    ratiovec = adj_close_prices[1:n] / adj_close_prices[:n-1]\n",
        "    returns = ratiovec - 1\n",
        "    return returns\n",
        "\n",
        "def get_stock_data(symbol):\n",
        "    data = yf.download(symbol, progress=False)\n",
        "    return data\n",
        "\n",
        "\n",
        "prices = get_stock_data('GS')\n",
        "\n",
        "print(prices.head())\n",
        "\n",
        "if not prices.empty and 'Adj Close' in prices.columns:\n",
        "    pricevec = prices['Adj Close'].dropna().values\n",
        "    returns = YahooData2returns(prices)\n",
        "    if returns is not None:\n",
        "        print(returns)\n"
      ]
    }
  ]
}