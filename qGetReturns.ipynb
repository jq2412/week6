{
  "nbformat": 4,
  "nbformat_minor": 0,
  "metadata": {
    "colab": {
      "provenance": [],
      "authorship_tag": "ABX9TyMjRbw8xjba2UgiQTmIaE7t",
      "include_colab_link": true
    },
    "kernelspec": {
      "name": "python3",
      "display_name": "Python 3"
    },
    "language_info": {
      "name": "python"
    }
  },
  "cells": [
    {
      "cell_type": "markdown",
      "metadata": {
        "id": "view-in-github",
        "colab_type": "text"
      },
      "source": [
        "<a href=\"https://colab.research.google.com/github/jq2412/week6/blob/main/qGetReturns.ipynb\" target=\"_parent\"><img src=\"https://colab.research.google.com/assets/colab-badge.svg\" alt=\"Open In Colab\"/></a>"
      ]
    },
    {
      "cell_type": "code",
      "execution_count": null,
      "metadata": {
        "id": "NlwfIk8xk7tE"
      },
      "outputs": [],
      "source": []
    },
    {
      "cell_type": "code",
      "execution_count": 3,
      "metadata": {
        "id": "Jx7tQYA0d1Ly",
        "outputId": "8e31e086-a869-4462-ced3-d13e331d9663",
        "colab": {
          "base_uri": "https://localhost:8080/"
        }
      },
      "outputs": [
        {
          "output_type": "stream",
          "name": "stdout",
          "text": [
            "GS\n"
          ]
        },
        {
          "output_type": "stream",
          "name": "stderr",
          "text": [
            "\r[*********************100%***********************]  1 of 1 completed"
          ]
        },
        {
          "output_type": "stream",
          "name": "stdout",
          "text": [
            "<class 'pandas.core.frame.DataFrame'>\n",
            "[[-0.01776156]\n",
            " [-0.01717923]\n",
            " [ 0.09107661]\n",
            " ...\n",
            " [ 0.0205286 ]\n",
            " [-0.04282804]\n",
            " [-0.0140927 ]]\n"
          ]
        },
        {
          "output_type": "stream",
          "name": "stderr",
          "text": [
            "\n"
          ]
        }
      ],
      "source": [
        "import yfinance as yf\n",
        "import pandas as pd\n",
        "\n",
        "def YahooData2returns(YahooData):\n",
        "    return\n",
        "\n",
        "def get_stock_data(symbol):\n",
        "    print(symbol)\n",
        "    data = yf.download(symbol)\n",
        "    prices = data['Close']\n",
        "    return prices\n",
        "\n",
        "# Example usage\n",
        "prices = get_stock_data('GS')\n",
        "print(type(prices))\n",
        "pricevec = prices.values\n",
        "\n",
        "# Compute the returns\n",
        "n = len(pricevec)\n",
        "ratiovec = pricevec[1:n] / pricevec[:n-1]\n",
        "\n",
        "def get_returns(pricevec):\n",
        "    n = len(pricevec)\n",
        "    ratiovec = pricevec[1:n] / pricevec[:n-1]\n",
        "    returns = ratiovec - 1  # assuming the return calculation is (price_t / price_t-1) - 1\n",
        "    return returns\n",
        "\n",
        "# Example of using get_returns\n",
        "returns = get_returns(pricevec)\n",
        "print(returns)\n"
      ]
    }
  ]
}