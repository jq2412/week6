{
  "nbformat": 4,
  "nbformat_minor": 0,
  "metadata": {
    "colab": {
      "provenance": [],
      "authorship_tag": "ABX9TyN8mKt2CLzZYwbcWNa7HX+6",
      "include_colab_link": true
    },
    "kernelspec": {
      "name": "python3",
      "display_name": "Python 3"
    },
    "language_info": {
      "name": "python"
    }
  },
  "cells": [
    {
      "cell_type": "markdown",
      "metadata": {
        "id": "view-in-github",
        "colab_type": "text"
      },
      "source": [
        "<a href=\"https://colab.research.google.com/github/jq2412/week6/blob/main/week6hw.ipynb\" target=\"_parent\"><img src=\"https://colab.research.google.com/assets/colab-badge.svg\" alt=\"Open In Colab\"/></a>"
      ]
    },
    {
      "cell_type": "code",
      "execution_count": 26,
      "metadata": {
        "id": "DSY0sXyzIYkh"
      },
      "outputs": [],
      "source": [
        "import numpy as np\n",
        "import matplotlib.pyplot as plt\n",
        "from scipy.stats import norm\n",
        "import yfinance as yf\n",
        "import pandas as pd\n",
        "\n",
        "\n",
        "def get_stock_data(symbol, start=\"2020-01-01\", end=\"2025-02-01\"):\n",
        "    data = yf.download (symbol, start, end)\n",
        "    stockprices= data[('Close', symbol)]\n",
        "    return stockprices\n",
        "    pass\n",
        "\n",
        "\n",
        "def get_returns (pricevec):\n",
        "    n = len(pricevec)\n",
        "    ratiovec = pricevec[1:n] / pricevec[:n-1] - 1\n",
        "    return ratiovec\n",
        "\n",
        "\n",
        "\n",
        "def percent_var(r, alpha):\n",
        "    plt.hist(r, bins=50, alpha=0.75)\n",
        "    plt.show()\n",
        "    var_value = np-percentile(r, 100 * (1 - alpha))\n",
        "\n",
        "    return abs(var_value)\n",
        "\n",
        "    pass\n",
        "\n",
        "\n",
        "def es(losses, alpha=None, VaR=None):\n",
        "\n",
        "    if VaR is None:\n",
        "      VaR = np-percentile(losses, alpha * 100)\n",
        "    return np.mean(losses [losses > VaR])\n",
        "    pass"
      ]
    }
  ]
}