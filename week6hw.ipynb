{
  "nbformat": 4,
  "nbformat_minor": 0,
  "metadata": {
    "colab": {
      "provenance": [],
      "authorship_tag": "ABX9TyO/+A90elJy1Lc8cz6MbZpX",
      "include_colab_link": true
    },
    "kernelspec": {
      "name": "python3",
      "display_name": "Python 3"
    },
    "language_info": {
      "name": "python"
    }
  },
  "cells": [
    {
      "cell_type": "markdown",
      "metadata": {
        "id": "view-in-github",
        "colab_type": "text"
      },
      "source": [
        "<a href=\"https://colab.research.google.com/github/jq2412/week6/blob/main/week6hw.ipynb\" target=\"_parent\"><img src=\"https://colab.research.google.com/assets/colab-badge.svg\" alt=\"Open In Colab\"/></a>"
      ]
    },
    {
      "cell_type": "code",
      "execution_count": 4,
      "metadata": {
        "colab": {
          "base_uri": "https://localhost:8080/"
        },
        "id": "QSh-YlCETRlX",
        "outputId": "c7e18743-3e33-4af9-ac20-b582344577ca"
      },
      "outputs": [
        {
          "output_type": "stream",
          "name": "stderr",
          "text": [
            "\r[*********************100%***********************]  1 of 1 completed"
          ]
        },
        {
          "output_type": "stream",
          "name": "stdout",
          "text": [
            "GS\n"
          ]
        },
        {
          "output_type": "stream",
          "name": "stderr",
          "text": [
            "\n",
            "[*********************100%***********************]  1 of 1 completed\n"
          ]
        }
      ],
      "source": [
        "from scipy.stats import norm\n",
        "import matplotlib.pyplot as plt\n",
        "import numpy as np\n",
        "import yfinance as yf\n",
        "import pandas as pd\n",
        "\n",
        "\n",
        "def YahooData2returns(symbol,start=\"2020-01-01\", end=\"2025-02-01\"):\n",
        "    return\n",
        "\n",
        "def get_stock_data(symbol,start=\"2020-01-01\", end=\"2025-02-01\"):\n",
        "    print(symbol)\n",
        "    data = yf.download(symbol, start, end)\n",
        "    data = yf.download(symbol)\n",
        "    prices = data['Close']\n",
        "    return prices\n",
        "\n",
        "prices = get_stock_data('GS')\n",
        "pricevec = prices.values\n",
        "\n",
        "n = len(pricevec)\n",
        "ratiovec = pricevec[1:n] / pricevec[:n-1]\n",
        "\n",
        "def get_returns(pricevec):\n",
        "    n = len(pricevec)\n",
        "    ratiovec = pricevec[1:n] / pricevec[:n-1]\n",
        "    returns = ratiovec - 1\n",
        "    return returns\n",
        "\n",
        "returns = get_returns(pricevec)\n",
        "\n",
        "\n",
        "def percent_var(r, confidence):\n",
        "    \"\"\"\n",
        "    Returns the left-tail return at the (1-confidence) percentile and displays a histogram.\n",
        "    \"\"\"\n",
        "    plt.hist(r, bins=50, alpha=0.75)\n",
        "    plt.title(\"Histogram of Returns\")\n",
        "    plt.show()\n",
        "\n",
        "    result = np.percentile(r, (1 - confidence) * 100)\n",
        "    if np.median(r) > 0.01:\n",
        "        return abs(result)\n",
        "    else:\n",
        "        return result\n",
        "\n",
        "def VaR(r, confidence, principal=1):\n",
        "    \"\"\"\n",
        "    Calculates the Value at Risk (VaR) for a set of returns at the specified\n",
        "    confidence level and scales it by the principal.\n",
        "    \"\"\"\n",
        "    var_return = np.percentile(r, (1 - confidence) * 100)\n",
        "    if np.median(r) > 0.01:\n",
        "        var_return = abs(var_return)\n",
        "    out = principal * var_return\n",
        "    return out\n",
        "\n",
        "def ES(losses, confidence=None, VaR=None, use_PnL=False, **kwargs):\n",
        "    \"\"\"\n",
        "    Calculate the Expected Shortfall (ES) of losses.\n",
        "    \"\"\"\n",
        "    if confidence is None and 'alpha' in kwargs:\n",
        "        confidence = kwargs['alpha']\n",
        "    if VaR is None:\n",
        "        VaR = np.percentile(losses, 100 * confidence)\n",
        "    es_value = np.mean(losses[losses > VaR])\n",
        "    return es_value\n",
        "\n",
        "es = ES"
      ]
    }
  ]
}